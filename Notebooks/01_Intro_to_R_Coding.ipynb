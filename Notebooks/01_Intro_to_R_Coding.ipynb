{
 "cells": [
  {
   "cell_type": "markdown",
   "id": "115af0af",
   "metadata": {},
   "source": [
    "# Intro to R coding"
   ]
  },
  {
   "cell_type": "markdown",
   "id": "d3ba8776",
   "metadata": {},
   "source": [
    "* [Working directory](#Working-Directory)\n",
    "* [Comments](#Comments)\n",
    "* [Help](#Help)\n",
    "    * [Functions](#Functions)\n",
    "    * [When not sure about the name](#When-you're-not-sure-about-the-name)\n",
    "    * [Datasets](#Datasets)\n",
    "* [Packages](#Packages)\n",
    "    * [Installation](#Installation)\n",
    "    * [Loading](#Loading)\n",
    "        * [Loading the package](#loading-the-package)\n",
    "        * [Detaching packages](#Detaching-loaded-packages)\n",
    "* [Datasets](#Built-in-Datasets)\n",
    "    * [Listing available datasets](#Listing-all-available-datasets)\n",
    "    * [Loading datasets](#Loading-datasets)\n",
    "    * [Observing datasets](#Observing-data)\n",
    "    * [Head](#Head)\n",
    "    * [Summary](#Summary-of-dataset)\n",
    "* [Simple Calculations](#Simple-Calculations)\n",
    "* [Assignment](#Assignment)\n",
    "* [Comparing values](#Comparing-values)\n",
    "* [Special values](#Special-values)\n",
    "    * [NA](#NA)\n",
    "    * [NULL](#NULL)\n",
    "    * [NAN](#NAN)\n",
    "* [Current session](#Current-session)\n",
    "    * [Objects](#Session-objects)\n",
    "    * [Packages](#Session-packages)\n",
    "* [Vectors](#Vectors)\n",
    "    * [Creation](#Creation)\n",
    "    * [Operations](#Operations)\n",
    "    * [Elements](#Elements)\n",
    "* [Matrix](#Matrix)\n",
    "* [Dataframes](#Dataframes)\n",
    "    * [Creation](#Creation)\n",
    "    * [Operations](#Operations)\n",
    "    * [Elements](#Dataframe-elements)"
   ]
  },
  {
   "cell_type": "markdown",
   "id": "3d0a51b3",
   "metadata": {},
   "source": [
    "## Working Directory"
   ]
  },
  {
   "cell_type": "code",
   "execution_count": 1,
   "id": "d5a3d29f",
   "metadata": {},
   "outputs": [
    {
     "data": {
      "text/html": [
       "'/home/aminst/Documents/University/Research/SNAinRworkshop/Notebooks'"
      ],
      "text/latex": [
       "'/home/aminst/Documents/University/Research/SNAinRworkshop/Notebooks'"
      ],
      "text/markdown": [
       "'/home/aminst/Documents/University/Research/SNAinRworkshop/Notebooks'"
      ],
      "text/plain": [
       "[1] \"/home/aminst/Documents/University/Research/SNAinRworkshop/Notebooks\""
      ]
     },
     "metadata": {},
     "output_type": "display_data"
    }
   ],
   "source": [
    "getwd()"
   ]
  },
  {
   "cell_type": "markdown",
   "id": "6c4c2e19",
   "metadata": {},
   "source": [
    "## Comments"
   ]
  },
  {
   "cell_type": "code",
   "execution_count": 2,
   "id": "4080f5fc",
   "metadata": {},
   "outputs": [],
   "source": [
    "# test comment"
   ]
  },
  {
   "cell_type": "markdown",
   "id": "81003213",
   "metadata": {},
   "source": [
    "## Help"
   ]
  },
  {
   "cell_type": "markdown",
   "id": "b00ebfc5",
   "metadata": {},
   "source": [
    "### Functions"
   ]
  },
  {
   "cell_type": "code",
   "execution_count": 3,
   "id": "3a068fc7",
   "metadata": {},
   "outputs": [],
   "source": [
    "?data.frame"
   ]
  },
  {
   "cell_type": "markdown",
   "id": "13f86de0",
   "metadata": {},
   "source": [
    "### When you're not sure about the name"
   ]
  },
  {
   "cell_type": "code",
   "execution_count": 4,
   "id": "88dfbdbb",
   "metadata": {},
   "outputs": [],
   "source": [
    "??\"factor\""
   ]
  },
  {
   "cell_type": "markdown",
   "id": "c8e5bcaf",
   "metadata": {},
   "source": [
    "### Datasets"
   ]
  },
  {
   "cell_type": "code",
   "execution_count": 5,
   "id": "cf1a7ee5",
   "metadata": {},
   "outputs": [],
   "source": [
    "?Cars93"
   ]
  },
  {
   "cell_type": "markdown",
   "id": "51b6bfba",
   "metadata": {},
   "source": [
    "## Packages"
   ]
  },
  {
   "cell_type": "markdown",
   "id": "b88ed320",
   "metadata": {},
   "source": [
    "### Installation"
   ]
  },
  {
   "cell_type": "code",
   "execution_count": 6,
   "id": "cc0aa001",
   "metadata": {},
   "outputs": [],
   "source": [
    "# install.packages(\"sna\")\n",
    "# install.packages(\"sna\", dependencies=TRUE)"
   ]
  },
  {
   "cell_type": "markdown",
   "id": "dc5ab2de",
   "metadata": {},
   "source": [
    "### Loading"
   ]
  },
  {
   "cell_type": "markdown",
   "id": "b16b341c",
   "metadata": {},
   "source": [
    "#### loading the package"
   ]
  },
  {
   "cell_type": "code",
   "execution_count": 7,
   "id": "915ee0ce",
   "metadata": {},
   "outputs": [],
   "source": [
    "library(\"MASS\")"
   ]
  },
  {
   "cell_type": "markdown",
   "id": "02cf4bb2",
   "metadata": {},
   "source": [
    "#### Detaching loaded packages"
   ]
  },
  {
   "cell_type": "code",
   "execution_count": 8,
   "id": "52d06fb0",
   "metadata": {},
   "outputs": [],
   "source": [
    "detach(\"package:MASS\")"
   ]
  },
  {
   "cell_type": "markdown",
   "id": "ca92d077",
   "metadata": {},
   "source": [
    "## Built-in Datasets"
   ]
  },
  {
   "cell_type": "markdown",
   "id": "0c034dbf",
   "metadata": {},
   "source": [
    "### Listing all available datasets"
   ]
  },
  {
   "cell_type": "code",
   "execution_count": 9,
   "id": "d48f8ee3",
   "metadata": {},
   "outputs": [],
   "source": [
    "data()"
   ]
  },
  {
   "cell_type": "markdown",
   "id": "6e762ce0",
   "metadata": {},
   "source": [
    "### Loading datasets"
   ]
  },
  {
   "cell_type": "code",
   "execution_count": 10,
   "id": "af231db2",
   "metadata": {},
   "outputs": [],
   "source": [
    "data(InsectSprays)"
   ]
  },
  {
   "cell_type": "markdown",
   "id": "ba2ad858",
   "metadata": {},
   "source": [
    "### Observing data"
   ]
  },
  {
   "cell_type": "code",
   "execution_count": 11,
   "id": "b1f95f83",
   "metadata": {},
   "outputs": [
    {
     "data": {
      "text/html": [
       "<table class=\"dataframe\">\n",
       "<caption>A data.frame: 72 × 2</caption>\n",
       "<thead>\n",
       "\t<tr><th scope=col>count</th><th scope=col>spray</th></tr>\n",
       "\t<tr><th scope=col>&lt;dbl&gt;</th><th scope=col>&lt;fct&gt;</th></tr>\n",
       "</thead>\n",
       "<tbody>\n",
       "\t<tr><td>10</td><td>A</td></tr>\n",
       "\t<tr><td> 7</td><td>A</td></tr>\n",
       "\t<tr><td>20</td><td>A</td></tr>\n",
       "\t<tr><td>14</td><td>A</td></tr>\n",
       "\t<tr><td>14</td><td>A</td></tr>\n",
       "\t<tr><td>12</td><td>A</td></tr>\n",
       "\t<tr><td>10</td><td>A</td></tr>\n",
       "\t<tr><td>23</td><td>A</td></tr>\n",
       "\t<tr><td>17</td><td>A</td></tr>\n",
       "\t<tr><td>20</td><td>A</td></tr>\n",
       "\t<tr><td>14</td><td>A</td></tr>\n",
       "\t<tr><td>13</td><td>A</td></tr>\n",
       "\t<tr><td>11</td><td>B</td></tr>\n",
       "\t<tr><td>17</td><td>B</td></tr>\n",
       "\t<tr><td>21</td><td>B</td></tr>\n",
       "\t<tr><td>11</td><td>B</td></tr>\n",
       "\t<tr><td>16</td><td>B</td></tr>\n",
       "\t<tr><td>14</td><td>B</td></tr>\n",
       "\t<tr><td>17</td><td>B</td></tr>\n",
       "\t<tr><td>17</td><td>B</td></tr>\n",
       "\t<tr><td>19</td><td>B</td></tr>\n",
       "\t<tr><td>21</td><td>B</td></tr>\n",
       "\t<tr><td> 7</td><td>B</td></tr>\n",
       "\t<tr><td>13</td><td>B</td></tr>\n",
       "\t<tr><td> 0</td><td>C</td></tr>\n",
       "\t<tr><td> 1</td><td>C</td></tr>\n",
       "\t<tr><td> 7</td><td>C</td></tr>\n",
       "\t<tr><td> 2</td><td>C</td></tr>\n",
       "\t<tr><td> 3</td><td>C</td></tr>\n",
       "\t<tr><td> 1</td><td>C</td></tr>\n",
       "\t<tr><td>⋮</td><td>⋮</td></tr>\n",
       "\t<tr><td> 5</td><td>D</td></tr>\n",
       "\t<tr><td> 5</td><td>D</td></tr>\n",
       "\t<tr><td> 5</td><td>D</td></tr>\n",
       "\t<tr><td> 5</td><td>D</td></tr>\n",
       "\t<tr><td> 2</td><td>D</td></tr>\n",
       "\t<tr><td> 4</td><td>D</td></tr>\n",
       "\t<tr><td> 3</td><td>E</td></tr>\n",
       "\t<tr><td> 5</td><td>E</td></tr>\n",
       "\t<tr><td> 3</td><td>E</td></tr>\n",
       "\t<tr><td> 5</td><td>E</td></tr>\n",
       "\t<tr><td> 3</td><td>E</td></tr>\n",
       "\t<tr><td> 6</td><td>E</td></tr>\n",
       "\t<tr><td> 1</td><td>E</td></tr>\n",
       "\t<tr><td> 1</td><td>E</td></tr>\n",
       "\t<tr><td> 3</td><td>E</td></tr>\n",
       "\t<tr><td> 2</td><td>E</td></tr>\n",
       "\t<tr><td> 6</td><td>E</td></tr>\n",
       "\t<tr><td> 4</td><td>E</td></tr>\n",
       "\t<tr><td>11</td><td>F</td></tr>\n",
       "\t<tr><td> 9</td><td>F</td></tr>\n",
       "\t<tr><td>15</td><td>F</td></tr>\n",
       "\t<tr><td>22</td><td>F</td></tr>\n",
       "\t<tr><td>15</td><td>F</td></tr>\n",
       "\t<tr><td>16</td><td>F</td></tr>\n",
       "\t<tr><td>13</td><td>F</td></tr>\n",
       "\t<tr><td>10</td><td>F</td></tr>\n",
       "\t<tr><td>26</td><td>F</td></tr>\n",
       "\t<tr><td>26</td><td>F</td></tr>\n",
       "\t<tr><td>24</td><td>F</td></tr>\n",
       "\t<tr><td>13</td><td>F</td></tr>\n",
       "</tbody>\n",
       "</table>\n"
      ],
      "text/latex": [
       "A data.frame: 72 × 2\n",
       "\\begin{tabular}{ll}\n",
       " count & spray\\\\\n",
       " <dbl> & <fct>\\\\\n",
       "\\hline\n",
       "\t 10 & A\\\\\n",
       "\t  7 & A\\\\\n",
       "\t 20 & A\\\\\n",
       "\t 14 & A\\\\\n",
       "\t 14 & A\\\\\n",
       "\t 12 & A\\\\\n",
       "\t 10 & A\\\\\n",
       "\t 23 & A\\\\\n",
       "\t 17 & A\\\\\n",
       "\t 20 & A\\\\\n",
       "\t 14 & A\\\\\n",
       "\t 13 & A\\\\\n",
       "\t 11 & B\\\\\n",
       "\t 17 & B\\\\\n",
       "\t 21 & B\\\\\n",
       "\t 11 & B\\\\\n",
       "\t 16 & B\\\\\n",
       "\t 14 & B\\\\\n",
       "\t 17 & B\\\\\n",
       "\t 17 & B\\\\\n",
       "\t 19 & B\\\\\n",
       "\t 21 & B\\\\\n",
       "\t  7 & B\\\\\n",
       "\t 13 & B\\\\\n",
       "\t  0 & C\\\\\n",
       "\t  1 & C\\\\\n",
       "\t  7 & C\\\\\n",
       "\t  2 & C\\\\\n",
       "\t  3 & C\\\\\n",
       "\t  1 & C\\\\\n",
       "\t ⋮ & ⋮\\\\\n",
       "\t  5 & D\\\\\n",
       "\t  5 & D\\\\\n",
       "\t  5 & D\\\\\n",
       "\t  5 & D\\\\\n",
       "\t  2 & D\\\\\n",
       "\t  4 & D\\\\\n",
       "\t  3 & E\\\\\n",
       "\t  5 & E\\\\\n",
       "\t  3 & E\\\\\n",
       "\t  5 & E\\\\\n",
       "\t  3 & E\\\\\n",
       "\t  6 & E\\\\\n",
       "\t  1 & E\\\\\n",
       "\t  1 & E\\\\\n",
       "\t  3 & E\\\\\n",
       "\t  2 & E\\\\\n",
       "\t  6 & E\\\\\n",
       "\t  4 & E\\\\\n",
       "\t 11 & F\\\\\n",
       "\t  9 & F\\\\\n",
       "\t 15 & F\\\\\n",
       "\t 22 & F\\\\\n",
       "\t 15 & F\\\\\n",
       "\t 16 & F\\\\\n",
       "\t 13 & F\\\\\n",
       "\t 10 & F\\\\\n",
       "\t 26 & F\\\\\n",
       "\t 26 & F\\\\\n",
       "\t 24 & F\\\\\n",
       "\t 13 & F\\\\\n",
       "\\end{tabular}\n"
      ],
      "text/markdown": [
       "\n",
       "A data.frame: 72 × 2\n",
       "\n",
       "| count &lt;dbl&gt; | spray &lt;fct&gt; |\n",
       "|---|---|\n",
       "| 10 | A |\n",
       "|  7 | A |\n",
       "| 20 | A |\n",
       "| 14 | A |\n",
       "| 14 | A |\n",
       "| 12 | A |\n",
       "| 10 | A |\n",
       "| 23 | A |\n",
       "| 17 | A |\n",
       "| 20 | A |\n",
       "| 14 | A |\n",
       "| 13 | A |\n",
       "| 11 | B |\n",
       "| 17 | B |\n",
       "| 21 | B |\n",
       "| 11 | B |\n",
       "| 16 | B |\n",
       "| 14 | B |\n",
       "| 17 | B |\n",
       "| 17 | B |\n",
       "| 19 | B |\n",
       "| 21 | B |\n",
       "|  7 | B |\n",
       "| 13 | B |\n",
       "|  0 | C |\n",
       "|  1 | C |\n",
       "|  7 | C |\n",
       "|  2 | C |\n",
       "|  3 | C |\n",
       "|  1 | C |\n",
       "| ⋮ | ⋮ |\n",
       "|  5 | D |\n",
       "|  5 | D |\n",
       "|  5 | D |\n",
       "|  5 | D |\n",
       "|  2 | D |\n",
       "|  4 | D |\n",
       "|  3 | E |\n",
       "|  5 | E |\n",
       "|  3 | E |\n",
       "|  5 | E |\n",
       "|  3 | E |\n",
       "|  6 | E |\n",
       "|  1 | E |\n",
       "|  1 | E |\n",
       "|  3 | E |\n",
       "|  2 | E |\n",
       "|  6 | E |\n",
       "|  4 | E |\n",
       "| 11 | F |\n",
       "|  9 | F |\n",
       "| 15 | F |\n",
       "| 22 | F |\n",
       "| 15 | F |\n",
       "| 16 | F |\n",
       "| 13 | F |\n",
       "| 10 | F |\n",
       "| 26 | F |\n",
       "| 26 | F |\n",
       "| 24 | F |\n",
       "| 13 | F |\n",
       "\n"
      ],
      "text/plain": [
       "   count spray\n",
       "1  10    A    \n",
       "2   7    A    \n",
       "3  20    A    \n",
       "4  14    A    \n",
       "5  14    A    \n",
       "6  12    A    \n",
       "7  10    A    \n",
       "8  23    A    \n",
       "9  17    A    \n",
       "10 20    A    \n",
       "11 14    A    \n",
       "12 13    A    \n",
       "13 11    B    \n",
       "14 17    B    \n",
       "15 21    B    \n",
       "16 11    B    \n",
       "17 16    B    \n",
       "18 14    B    \n",
       "19 17    B    \n",
       "20 17    B    \n",
       "21 19    B    \n",
       "22 21    B    \n",
       "23  7    B    \n",
       "24 13    B    \n",
       "25  0    C    \n",
       "26  1    C    \n",
       "27  7    C    \n",
       "28  2    C    \n",
       "29  3    C    \n",
       "30  1    C    \n",
       "⋮  ⋮     ⋮    \n",
       "43  5    D    \n",
       "44  5    D    \n",
       "45  5    D    \n",
       "46  5    D    \n",
       "47  2    D    \n",
       "48  4    D    \n",
       "49  3    E    \n",
       "50  5    E    \n",
       "51  3    E    \n",
       "52  5    E    \n",
       "53  3    E    \n",
       "54  6    E    \n",
       "55  1    E    \n",
       "56  1    E    \n",
       "57  3    E    \n",
       "58  2    E    \n",
       "59  6    E    \n",
       "60  4    E    \n",
       "61 11    F    \n",
       "62  9    F    \n",
       "63 15    F    \n",
       "64 22    F    \n",
       "65 15    F    \n",
       "66 16    F    \n",
       "67 13    F    \n",
       "68 10    F    \n",
       "69 26    F    \n",
       "70 26    F    \n",
       "71 24    F    \n",
       "72 13    F    "
      ]
     },
     "metadata": {},
     "output_type": "display_data"
    }
   ],
   "source": [
    "InsectSprays"
   ]
  },
  {
   "cell_type": "markdown",
   "id": "c0ec7287",
   "metadata": {},
   "source": [
    "### Head"
   ]
  },
  {
   "cell_type": "code",
   "execution_count": 12,
   "id": "7723e4a6",
   "metadata": {},
   "outputs": [
    {
     "data": {
      "text/html": [
       "<table class=\"dataframe\">\n",
       "<caption>A data.frame: 6 × 2</caption>\n",
       "<thead>\n",
       "\t<tr><th></th><th scope=col>count</th><th scope=col>spray</th></tr>\n",
       "\t<tr><th></th><th scope=col>&lt;dbl&gt;</th><th scope=col>&lt;fct&gt;</th></tr>\n",
       "</thead>\n",
       "<tbody>\n",
       "\t<tr><th scope=row>1</th><td>10</td><td>A</td></tr>\n",
       "\t<tr><th scope=row>2</th><td> 7</td><td>A</td></tr>\n",
       "\t<tr><th scope=row>3</th><td>20</td><td>A</td></tr>\n",
       "\t<tr><th scope=row>4</th><td>14</td><td>A</td></tr>\n",
       "\t<tr><th scope=row>5</th><td>14</td><td>A</td></tr>\n",
       "\t<tr><th scope=row>6</th><td>12</td><td>A</td></tr>\n",
       "</tbody>\n",
       "</table>\n"
      ],
      "text/latex": [
       "A data.frame: 6 × 2\n",
       "\\begin{tabular}{r|ll}\n",
       "  & count & spray\\\\\n",
       "  & <dbl> & <fct>\\\\\n",
       "\\hline\n",
       "\t1 & 10 & A\\\\\n",
       "\t2 &  7 & A\\\\\n",
       "\t3 & 20 & A\\\\\n",
       "\t4 & 14 & A\\\\\n",
       "\t5 & 14 & A\\\\\n",
       "\t6 & 12 & A\\\\\n",
       "\\end{tabular}\n"
      ],
      "text/markdown": [
       "\n",
       "A data.frame: 6 × 2\n",
       "\n",
       "| <!--/--> | count &lt;dbl&gt; | spray &lt;fct&gt; |\n",
       "|---|---|---|\n",
       "| 1 | 10 | A |\n",
       "| 2 |  7 | A |\n",
       "| 3 | 20 | A |\n",
       "| 4 | 14 | A |\n",
       "| 5 | 14 | A |\n",
       "| 6 | 12 | A |\n",
       "\n"
      ],
      "text/plain": [
       "  count spray\n",
       "1 10    A    \n",
       "2  7    A    \n",
       "3 20    A    \n",
       "4 14    A    \n",
       "5 14    A    \n",
       "6 12    A    "
      ]
     },
     "metadata": {},
     "output_type": "display_data"
    }
   ],
   "source": [
    "head(InsectSprays)"
   ]
  },
  {
   "cell_type": "markdown",
   "id": "5a082523",
   "metadata": {},
   "source": [
    "### Summary of dataset"
   ]
  },
  {
   "cell_type": "code",
   "execution_count": 13,
   "id": "ee5b9c29",
   "metadata": {},
   "outputs": [
    {
     "data": {
      "text/plain": [
       "     count       spray \n",
       " Min.   : 0.00   A:12  \n",
       " 1st Qu.: 3.00   B:12  \n",
       " Median : 7.00   C:12  \n",
       " Mean   : 9.50   D:12  \n",
       " 3rd Qu.:14.25   E:12  \n",
       " Max.   :26.00   F:12  "
      ]
     },
     "metadata": {},
     "output_type": "display_data"
    }
   ],
   "source": [
    "summary(InsectSprays)"
   ]
  },
  {
   "cell_type": "markdown",
   "id": "da6249fe",
   "metadata": {},
   "source": [
    "## Simple Calculations"
   ]
  },
  {
   "cell_type": "code",
   "execution_count": 14,
   "id": "13f411a3",
   "metadata": {},
   "outputs": [
    {
     "data": {
      "text/html": [
       "4"
      ],
      "text/latex": [
       "4"
      ],
      "text/markdown": [
       "4"
      ],
      "text/plain": [
       "[1] 4"
      ]
     },
     "metadata": {},
     "output_type": "display_data"
    }
   ],
   "source": [
    "2 + 2"
   ]
  },
  {
   "cell_type": "code",
   "execution_count": 15,
   "id": "a5c3034f",
   "metadata": {},
   "outputs": [
    {
     "data": {
      "text/html": [
       "8"
      ],
      "text/latex": [
       "8"
      ],
      "text/markdown": [
       "8"
      ],
      "text/plain": [
       "[1] 8"
      ]
     },
     "metadata": {},
     "output_type": "display_data"
    }
   ],
   "source": [
    "2^2 + 2*2"
   ]
  },
  {
   "cell_type": "code",
   "execution_count": 16,
   "id": "59172c26",
   "metadata": {},
   "outputs": [
    {
     "data": {
      "text/html": [
       "32"
      ],
      "text/latex": [
       "32"
      ],
      "text/markdown": [
       "32"
      ],
      "text/plain": [
       "[1] 32"
      ]
     },
     "metadata": {},
     "output_type": "display_data"
    }
   ],
   "source": [
    "2^(2+2)*2"
   ]
  },
  {
   "cell_type": "code",
   "execution_count": 17,
   "id": "5e095bbb",
   "metadata": {},
   "outputs": [
    {
     "data": {
      "text/html": [
       "2"
      ],
      "text/latex": [
       "2"
      ],
      "text/markdown": [
       "2"
      ],
      "text/plain": [
       "[1] 2"
      ]
     },
     "metadata": {},
     "output_type": "display_data"
    }
   ],
   "source": [
    "sqrt(abs(-4))"
   ]
  },
  {
   "cell_type": "markdown",
   "id": "ac55b433",
   "metadata": {},
   "source": [
    "## Assignment"
   ]
  },
  {
   "cell_type": "code",
   "execution_count": 18,
   "id": "2f1994df",
   "metadata": {},
   "outputs": [],
   "source": [
    "x <- 3"
   ]
  },
  {
   "cell_type": "code",
   "execution_count": 19,
   "id": "97c60f62",
   "metadata": {},
   "outputs": [
    {
     "data": {
      "text/html": [
       "3"
      ],
      "text/latex": [
       "3"
      ],
      "text/markdown": [
       "3"
      ],
      "text/plain": [
       "[1] 3"
      ]
     },
     "metadata": {},
     "output_type": "display_data"
    }
   ],
   "source": [
    "x"
   ]
  },
  {
   "cell_type": "code",
   "execution_count": 20,
   "id": "31b3ed7d",
   "metadata": {},
   "outputs": [],
   "source": [
    "y <- 4"
   ]
  },
  {
   "cell_type": "code",
   "execution_count": 21,
   "id": "adb158bc",
   "metadata": {},
   "outputs": [
    {
     "data": {
      "text/html": [
       "4"
      ],
      "text/latex": [
       "4"
      ],
      "text/markdown": [
       "4"
      ],
      "text/plain": [
       "[1] 4"
      ]
     },
     "metadata": {},
     "output_type": "display_data"
    }
   ],
   "source": [
    "y"
   ]
  },
  {
   "cell_type": "code",
   "execution_count": 22,
   "id": "ed9778e3",
   "metadata": {},
   "outputs": [
    {
     "data": {
      "text/html": [
       "9"
      ],
      "text/latex": [
       "9"
      ],
      "text/markdown": [
       "9"
      ],
      "text/plain": [
       "[1] 9"
      ]
     },
     "metadata": {},
     "output_type": "display_data"
    }
   ],
   "source": [
    "y + 5"
   ]
  },
  {
   "cell_type": "code",
   "execution_count": 23,
   "id": "70addb66",
   "metadata": {},
   "outputs": [
    {
     "data": {
      "text/html": [
       "4"
      ],
      "text/latex": [
       "4"
      ],
      "text/markdown": [
       "4"
      ],
      "text/plain": [
       "[1] 4"
      ]
     },
     "metadata": {},
     "output_type": "display_data"
    }
   ],
   "source": [
    "y"
   ]
  },
  {
   "cell_type": "code",
   "execution_count": 24,
   "id": "092712b4",
   "metadata": {},
   "outputs": [],
   "source": [
    "z <- x + 17*y"
   ]
  },
  {
   "cell_type": "code",
   "execution_count": 25,
   "id": "008c6f94",
   "metadata": {},
   "outputs": [
    {
     "data": {
      "text/html": [
       "71"
      ],
      "text/latex": [
       "71"
      ],
      "text/markdown": [
       "71"
      ],
      "text/plain": [
       "[1] 71"
      ]
     },
     "metadata": {},
     "output_type": "display_data"
    }
   ],
   "source": [
    "z"
   ]
  },
  {
   "cell_type": "markdown",
   "id": "dc250803",
   "metadata": {},
   "source": [
    "this deletes the object"
   ]
  },
  {
   "cell_type": "code",
   "execution_count": 26,
   "id": "177add87",
   "metadata": {},
   "outputs": [],
   "source": [
    "rm(z)"
   ]
  },
  {
   "cell_type": "code",
   "execution_count": 27,
   "id": "f682aa1b",
   "metadata": {},
   "outputs": [
    {
     "ename": "ERROR",
     "evalue": "Error in eval(expr, envir, enclos): object 'z' not found\n",
     "output_type": "error",
     "traceback": [
      "Error in eval(expr, envir, enclos): object 'z' not found\nTraceback:\n"
     ]
    }
   ],
   "source": [
    "z"
   ]
  },
  {
   "cell_type": "markdown",
   "id": "163054d7",
   "metadata": {},
   "source": [
    "## Comparing values"
   ]
  },
  {
   "cell_type": "code",
   "execution_count": 28,
   "id": "7244d5d7",
   "metadata": {},
   "outputs": [
    {
     "data": {
      "text/html": [
       "TRUE"
      ],
      "text/latex": [
       "TRUE"
      ],
      "text/markdown": [
       "TRUE"
      ],
      "text/plain": [
       "[1] TRUE"
      ]
     },
     "metadata": {},
     "output_type": "display_data"
    }
   ],
   "source": [
    "2 == 2"
   ]
  },
  {
   "cell_type": "code",
   "execution_count": 29,
   "id": "4a5b1b42",
   "metadata": {},
   "outputs": [
    {
     "data": {
      "text/html": [
       "FALSE"
      ],
      "text/latex": [
       "FALSE"
      ],
      "text/markdown": [
       "FALSE"
      ],
      "text/plain": [
       "[1] FALSE"
      ]
     },
     "metadata": {},
     "output_type": "display_data"
    }
   ],
   "source": [
    "2 != 2"
   ]
  },
  {
   "cell_type": "code",
   "execution_count": 30,
   "id": "68aae8de",
   "metadata": {},
   "outputs": [
    {
     "data": {
      "text/html": [
       "TRUE"
      ],
      "text/latex": [
       "TRUE"
      ],
      "text/markdown": [
       "TRUE"
      ],
      "text/plain": [
       "[1] TRUE"
      ]
     },
     "metadata": {},
     "output_type": "display_data"
    }
   ],
   "source": [
    "x <= y"
   ]
  },
  {
   "cell_type": "markdown",
   "id": "75b6dd9d",
   "metadata": {},
   "source": [
    "## Special values"
   ]
  },
  {
   "cell_type": "markdown",
   "id": "8259b524",
   "metadata": {},
   "source": [
    "### NA"
   ]
  },
  {
   "cell_type": "code",
   "execution_count": 31,
   "id": "7eea1b09",
   "metadata": {},
   "outputs": [],
   "source": [
    "cat <- NA"
   ]
  },
  {
   "cell_type": "code",
   "execution_count": 32,
   "id": "c8c0a3ea",
   "metadata": {},
   "outputs": [
    {
     "data": {
      "text/html": [
       "TRUE"
      ],
      "text/latex": [
       "TRUE"
      ],
      "text/markdown": [
       "TRUE"
      ],
      "text/plain": [
       "[1] TRUE"
      ]
     },
     "metadata": {},
     "output_type": "display_data"
    }
   ],
   "source": [
    "is.na(cat)"
   ]
  },
  {
   "cell_type": "code",
   "execution_count": 33,
   "id": "21650038",
   "metadata": {},
   "outputs": [],
   "source": [
    "dog <- TRUE"
   ]
  },
  {
   "cell_type": "code",
   "execution_count": 34,
   "id": "c685cf75",
   "metadata": {},
   "outputs": [
    {
     "data": {
      "text/html": [
       "FALSE"
      ],
      "text/latex": [
       "FALSE"
      ],
      "text/markdown": [
       "FALSE"
      ],
      "text/plain": [
       "[1] FALSE"
      ]
     },
     "metadata": {},
     "output_type": "display_data"
    }
   ],
   "source": [
    "is.na(dog)"
   ]
  },
  {
   "cell_type": "markdown",
   "id": "45a6f162",
   "metadata": {},
   "source": [
    "### NULL"
   ]
  },
  {
   "cell_type": "code",
   "execution_count": 35,
   "id": "ef399110",
   "metadata": {},
   "outputs": [],
   "source": [
    "x <- NULL"
   ]
  },
  {
   "cell_type": "code",
   "execution_count": 36,
   "id": "abe6a9d0",
   "metadata": {},
   "outputs": [
    {
     "data": {
      "text/html": [
       "TRUE"
      ],
      "text/latex": [
       "TRUE"
      ],
      "text/markdown": [
       "TRUE"
      ],
      "text/plain": [
       "[1] TRUE"
      ]
     },
     "metadata": {},
     "output_type": "display_data"
    }
   ],
   "source": [
    "is.null(x)"
   ]
  },
  {
   "cell_type": "code",
   "execution_count": 37,
   "id": "5283e1c4",
   "metadata": {},
   "outputs": [],
   "source": [
    "y <- 2"
   ]
  },
  {
   "cell_type": "code",
   "execution_count": 38,
   "id": "f703c7d1",
   "metadata": {},
   "outputs": [
    {
     "data": {
      "text/html": [
       "FALSE"
      ],
      "text/latex": [
       "FALSE"
      ],
      "text/markdown": [
       "FALSE"
      ],
      "text/plain": [
       "[1] FALSE"
      ]
     },
     "metadata": {},
     "output_type": "display_data"
    }
   ],
   "source": [
    "is.null(y)"
   ]
  },
  {
   "cell_type": "markdown",
   "id": "7c44ce26",
   "metadata": {},
   "source": [
    "### NAN"
   ]
  },
  {
   "cell_type": "code",
   "execution_count": 39,
   "id": "aeae570b",
   "metadata": {},
   "outputs": [],
   "source": [
    "x <- 0/0"
   ]
  },
  {
   "cell_type": "code",
   "execution_count": 40,
   "id": "6cd772f6",
   "metadata": {},
   "outputs": [
    {
     "data": {
      "text/html": [
       "TRUE"
      ],
      "text/latex": [
       "TRUE"
      ],
      "text/markdown": [
       "TRUE"
      ],
      "text/plain": [
       "[1] TRUE"
      ]
     },
     "metadata": {},
     "output_type": "display_data"
    }
   ],
   "source": [
    "is.nan(x)"
   ]
  },
  {
   "cell_type": "code",
   "execution_count": 41,
   "id": "a79fa585",
   "metadata": {},
   "outputs": [],
   "source": [
    "y <- 3"
   ]
  },
  {
   "cell_type": "code",
   "execution_count": 42,
   "id": "74448854",
   "metadata": {},
   "outputs": [
    {
     "data": {
      "text/html": [
       "FALSE"
      ],
      "text/latex": [
       "FALSE"
      ],
      "text/markdown": [
       "FALSE"
      ],
      "text/plain": [
       "[1] FALSE"
      ]
     },
     "metadata": {},
     "output_type": "display_data"
    }
   ],
   "source": [
    "is.nan(y)"
   ]
  },
  {
   "cell_type": "markdown",
   "id": "358f93bb",
   "metadata": {},
   "source": [
    "## Current session"
   ]
  },
  {
   "cell_type": "markdown",
   "id": "4efc6418",
   "metadata": {},
   "source": [
    "### Session objects"
   ]
  },
  {
   "cell_type": "code",
   "execution_count": 43,
   "id": "c6520ad0",
   "metadata": {},
   "outputs": [
    {
     "data": {
      "text/html": [
       "<style>\n",
       ".list-inline {list-style: none; margin:0; padding: 0}\n",
       ".list-inline>li {display: inline-block}\n",
       ".list-inline>li:not(:last-child)::after {content: \"\\00b7\"; padding: 0 .5ex}\n",
       "</style>\n",
       "<ol class=list-inline><li>'cat'</li><li>'dog'</li><li>'InsectSprays'</li><li>'x'</li><li>'y'</li></ol>\n"
      ],
      "text/latex": [
       "\\begin{enumerate*}\n",
       "\\item 'cat'\n",
       "\\item 'dog'\n",
       "\\item 'InsectSprays'\n",
       "\\item 'x'\n",
       "\\item 'y'\n",
       "\\end{enumerate*}\n"
      ],
      "text/markdown": [
       "1. 'cat'\n",
       "2. 'dog'\n",
       "3. 'InsectSprays'\n",
       "4. 'x'\n",
       "5. 'y'\n",
       "\n",
       "\n"
      ],
      "text/plain": [
       "[1] \"cat\"          \"dog\"          \"InsectSprays\" \"x\"            \"y\"           "
      ]
     },
     "metadata": {},
     "output_type": "display_data"
    }
   ],
   "source": [
    "ls()"
   ]
  },
  {
   "cell_type": "markdown",
   "id": "f5dfeb3f",
   "metadata": {},
   "source": [
    "### Session packages"
   ]
  },
  {
   "cell_type": "code",
   "execution_count": 44,
   "id": "e8e9ad02",
   "metadata": {},
   "outputs": [
    {
     "data": {
      "text/html": [
       "<style>\n",
       ".list-inline {list-style: none; margin:0; padding: 0}\n",
       ".list-inline>li {display: inline-block}\n",
       ".list-inline>li:not(:last-child)::after {content: \"\\00b7\"; padding: 0 .5ex}\n",
       "</style>\n",
       "<ol class=list-inline><li>'.GlobalEnv'</li><li>'jupyter:irkernel'</li><li>'package:stats'</li><li>'package:graphics'</li><li>'package:grDevices'</li><li>'package:utils'</li><li>'package:datasets'</li><li>'package:methods'</li><li>'Autoloads'</li><li>'package:base'</li></ol>\n"
      ],
      "text/latex": [
       "\\begin{enumerate*}\n",
       "\\item '.GlobalEnv'\n",
       "\\item 'jupyter:irkernel'\n",
       "\\item 'package:stats'\n",
       "\\item 'package:graphics'\n",
       "\\item 'package:grDevices'\n",
       "\\item 'package:utils'\n",
       "\\item 'package:datasets'\n",
       "\\item 'package:methods'\n",
       "\\item 'Autoloads'\n",
       "\\item 'package:base'\n",
       "\\end{enumerate*}\n"
      ],
      "text/markdown": [
       "1. '.GlobalEnv'\n",
       "2. 'jupyter:irkernel'\n",
       "3. 'package:stats'\n",
       "4. 'package:graphics'\n",
       "5. 'package:grDevices'\n",
       "6. 'package:utils'\n",
       "7. 'package:datasets'\n",
       "8. 'package:methods'\n",
       "9. 'Autoloads'\n",
       "10. 'package:base'\n",
       "\n",
       "\n"
      ],
      "text/plain": [
       " [1] \".GlobalEnv\"        \"jupyter:irkernel\"  \"package:stats\"    \n",
       " [4] \"package:graphics\"  \"package:grDevices\" \"package:utils\"    \n",
       " [7] \"package:datasets\"  \"package:methods\"   \"Autoloads\"        \n",
       "[10] \"package:base\"     "
      ]
     },
     "metadata": {},
     "output_type": "display_data"
    }
   ],
   "source": [
    "search()"
   ]
  },
  {
   "cell_type": "markdown",
   "id": "5a8ab0fc",
   "metadata": {},
   "source": [
    "## Vectors"
   ]
  },
  {
   "cell_type": "markdown",
   "id": "65f178f8",
   "metadata": {},
   "source": [
    "### Creation"
   ]
  },
  {
   "cell_type": "code",
   "execution_count": 45,
   "id": "4ec44299",
   "metadata": {},
   "outputs": [
    {
     "data": {
      "text/html": [
       "<style>\n",
       ".list-inline {list-style: none; margin:0; padding: 0}\n",
       ".list-inline>li {display: inline-block}\n",
       ".list-inline>li:not(:last-child)::after {content: \"\\00b7\"; padding: 0 .5ex}\n",
       "</style>\n",
       "<ol class=list-inline><li>1</li><li>7</li><li>11</li><li>22</li></ol>\n"
      ],
      "text/latex": [
       "\\begin{enumerate*}\n",
       "\\item 1\n",
       "\\item 7\n",
       "\\item 11\n",
       "\\item 22\n",
       "\\end{enumerate*}\n"
      ],
      "text/markdown": [
       "1. 1\n",
       "2. 7\n",
       "3. 11\n",
       "4. 22\n",
       "\n",
       "\n"
      ],
      "text/plain": [
       "[1]  1  7 11 22"
      ]
     },
     "metadata": {},
     "output_type": "display_data"
    },
    {
     "data": {
      "text/html": [
       "<style>\n",
       ".list-inline {list-style: none; margin:0; padding: 0}\n",
       ".list-inline>li {display: inline-block}\n",
       ".list-inline>li:not(:last-child)::after {content: \"\\00b7\"; padding: 0 .5ex}\n",
       "</style>\n",
       "<ol class=list-inline><li>'hello'</li><li>'world'</li></ol>\n"
      ],
      "text/latex": [
       "\\begin{enumerate*}\n",
       "\\item 'hello'\n",
       "\\item 'world'\n",
       "\\end{enumerate*}\n"
      ],
      "text/markdown": [
       "1. 'hello'\n",
       "2. 'world'\n",
       "\n",
       "\n"
      ],
      "text/plain": [
       "[1] \"hello\" \"world\""
      ]
     },
     "metadata": {},
     "output_type": "display_data"
    },
    {
     "data": {
      "text/html": [
       "<style>\n",
       ".list-inline {list-style: none; margin:0; padding: 0}\n",
       ".list-inline>li {display: inline-block}\n",
       ".list-inline>li:not(:last-child)::after {content: \"\\00b7\"; padding: 0 .5ex}\n",
       "</style>\n",
       "<ol class=list-inline><li>TRUE</li><li>TRUE</li><li>FALSE</li></ol>\n"
      ],
      "text/latex": [
       "\\begin{enumerate*}\n",
       "\\item TRUE\n",
       "\\item TRUE\n",
       "\\item FALSE\n",
       "\\end{enumerate*}\n"
      ],
      "text/markdown": [
       "1. TRUE\n",
       "2. TRUE\n",
       "3. FALSE\n",
       "\n",
       "\n"
      ],
      "text/plain": [
       "[1]  TRUE  TRUE FALSE"
      ]
     },
     "metadata": {},
     "output_type": "display_data"
    }
   ],
   "source": [
    "v1 <- c(1, 7, 11, 22)\n",
    "v1\n",
    "v2 <- c(\"hello\",\"world\")\n",
    "v2\n",
    "v3 <- c(TRUE, TRUE, FALSE)\n",
    "v3 "
   ]
  },
  {
   "cell_type": "code",
   "execution_count": 46,
   "id": "a408a844",
   "metadata": {},
   "outputs": [
    {
     "data": {
      "text/html": [
       "<style>\n",
       ".list-inline {list-style: none; margin:0; padding: 0}\n",
       ".list-inline>li {display: inline-block}\n",
       ".list-inline>li:not(:last-child)::after {content: \"\\00b7\"; padding: 0 .5ex}\n",
       "</style>\n",
       "<ol class=list-inline><li>1</li><li>2</li><li>3</li><li>4</li><li>5</li><li>6</li><li>7</li></ol>\n"
      ],
      "text/latex": [
       "\\begin{enumerate*}\n",
       "\\item 1\n",
       "\\item 2\n",
       "\\item 3\n",
       "\\item 4\n",
       "\\item 5\n",
       "\\item 6\n",
       "\\item 7\n",
       "\\end{enumerate*}\n"
      ],
      "text/markdown": [
       "1. 1\n",
       "2. 2\n",
       "3. 3\n",
       "4. 4\n",
       "5. 5\n",
       "6. 6\n",
       "7. 7\n",
       "\n",
       "\n"
      ],
      "text/plain": [
       "[1] 1 2 3 4 5 6 7"
      ]
     },
     "metadata": {},
     "output_type": "display_data"
    }
   ],
   "source": [
    "v <- 1:7\n",
    "v"
   ]
  },
  {
   "cell_type": "code",
   "execution_count": 47,
   "id": "c8f01f26",
   "metadata": {},
   "outputs": [
    {
     "data": {
      "text/html": [
       "<style>\n",
       ".list-inline {list-style: none; margin:0; padding: 0}\n",
       ".list-inline>li {display: inline-block}\n",
       ".list-inline>li:not(:last-child)::after {content: \"\\00b7\"; padding: 0 .5ex}\n",
       "</style>\n",
       "<ol class=list-inline><li>0</li><li>0</li><li>0</li><li>0</li><li>0</li><li>0</li><li>0</li><li>0</li><li>0</li><li>0</li><li>0</li><li>0</li><li>0</li><li>0</li><li>0</li><li>0</li><li>0</li><li>0</li><li>0</li><li>0</li><li>0</li><li>0</li><li>0</li><li>0</li><li>0</li><li>0</li><li>0</li><li>0</li><li>0</li><li>0</li><li>0</li><li>0</li><li>0</li><li>0</li><li>0</li><li>0</li><li>0</li><li>0</li><li>0</li><li>0</li><li>0</li><li>0</li><li>0</li><li>0</li><li>0</li><li>0</li><li>0</li><li>0</li><li>0</li><li>0</li><li>0</li><li>0</li><li>0</li><li>0</li><li>0</li><li>0</li><li>0</li><li>0</li><li>0</li><li>0</li><li>0</li><li>0</li><li>0</li><li>0</li><li>0</li><li>0</li><li>0</li><li>0</li><li>0</li><li>0</li><li>0</li><li>0</li><li>0</li><li>0</li><li>0</li><li>0</li><li>0</li></ol>\n"
      ],
      "text/latex": [
       "\\begin{enumerate*}\n",
       "\\item 0\n",
       "\\item 0\n",
       "\\item 0\n",
       "\\item 0\n",
       "\\item 0\n",
       "\\item 0\n",
       "\\item 0\n",
       "\\item 0\n",
       "\\item 0\n",
       "\\item 0\n",
       "\\item 0\n",
       "\\item 0\n",
       "\\item 0\n",
       "\\item 0\n",
       "\\item 0\n",
       "\\item 0\n",
       "\\item 0\n",
       "\\item 0\n",
       "\\item 0\n",
       "\\item 0\n",
       "\\item 0\n",
       "\\item 0\n",
       "\\item 0\n",
       "\\item 0\n",
       "\\item 0\n",
       "\\item 0\n",
       "\\item 0\n",
       "\\item 0\n",
       "\\item 0\n",
       "\\item 0\n",
       "\\item 0\n",
       "\\item 0\n",
       "\\item 0\n",
       "\\item 0\n",
       "\\item 0\n",
       "\\item 0\n",
       "\\item 0\n",
       "\\item 0\n",
       "\\item 0\n",
       "\\item 0\n",
       "\\item 0\n",
       "\\item 0\n",
       "\\item 0\n",
       "\\item 0\n",
       "\\item 0\n",
       "\\item 0\n",
       "\\item 0\n",
       "\\item 0\n",
       "\\item 0\n",
       "\\item 0\n",
       "\\item 0\n",
       "\\item 0\n",
       "\\item 0\n",
       "\\item 0\n",
       "\\item 0\n",
       "\\item 0\n",
       "\\item 0\n",
       "\\item 0\n",
       "\\item 0\n",
       "\\item 0\n",
       "\\item 0\n",
       "\\item 0\n",
       "\\item 0\n",
       "\\item 0\n",
       "\\item 0\n",
       "\\item 0\n",
       "\\item 0\n",
       "\\item 0\n",
       "\\item 0\n",
       "\\item 0\n",
       "\\item 0\n",
       "\\item 0\n",
       "\\item 0\n",
       "\\item 0\n",
       "\\item 0\n",
       "\\item 0\n",
       "\\item 0\n",
       "\\end{enumerate*}\n"
      ],
      "text/markdown": [
       "1. 0\n",
       "2. 0\n",
       "3. 0\n",
       "4. 0\n",
       "5. 0\n",
       "6. 0\n",
       "7. 0\n",
       "8. 0\n",
       "9. 0\n",
       "10. 0\n",
       "11. 0\n",
       "12. 0\n",
       "13. 0\n",
       "14. 0\n",
       "15. 0\n",
       "16. 0\n",
       "17. 0\n",
       "18. 0\n",
       "19. 0\n",
       "20. 0\n",
       "21. 0\n",
       "22. 0\n",
       "23. 0\n",
       "24. 0\n",
       "25. 0\n",
       "26. 0\n",
       "27. 0\n",
       "28. 0\n",
       "29. 0\n",
       "30. 0\n",
       "31. 0\n",
       "32. 0\n",
       "33. 0\n",
       "34. 0\n",
       "35. 0\n",
       "36. 0\n",
       "37. 0\n",
       "38. 0\n",
       "39. 0\n",
       "40. 0\n",
       "41. 0\n",
       "42. 0\n",
       "43. 0\n",
       "44. 0\n",
       "45. 0\n",
       "46. 0\n",
       "47. 0\n",
       "48. 0\n",
       "49. 0\n",
       "50. 0\n",
       "51. 0\n",
       "52. 0\n",
       "53. 0\n",
       "54. 0\n",
       "55. 0\n",
       "56. 0\n",
       "57. 0\n",
       "58. 0\n",
       "59. 0\n",
       "60. 0\n",
       "61. 0\n",
       "62. 0\n",
       "63. 0\n",
       "64. 0\n",
       "65. 0\n",
       "66. 0\n",
       "67. 0\n",
       "68. 0\n",
       "69. 0\n",
       "70. 0\n",
       "71. 0\n",
       "72. 0\n",
       "73. 0\n",
       "74. 0\n",
       "75. 0\n",
       "76. 0\n",
       "77. 0\n",
       "\n",
       "\n"
      ],
      "text/plain": [
       " [1] 0 0 0 0 0 0 0 0 0 0 0 0 0 0 0 0 0 0 0 0 0 0 0 0 0 0 0 0 0 0 0 0 0 0 0 0 0 0\n",
       "[39] 0 0 0 0 0 0 0 0 0 0 0 0 0 0 0 0 0 0 0 0 0 0 0 0 0 0 0 0 0 0 0 0 0 0 0 0 0 0\n",
       "[77] 0"
      ]
     },
     "metadata": {},
     "output_type": "display_data"
    },
    {
     "data": {
      "text/html": [
       "77"
      ],
      "text/latex": [
       "77"
      ],
      "text/markdown": [
       "77"
      ],
      "text/plain": [
       "[1] 77"
      ]
     },
     "metadata": {},
     "output_type": "display_data"
    }
   ],
   "source": [
    "v <- rep(0, 77)\n",
    "v\n",
    "length(v)"
   ]
  },
  {
   "cell_type": "code",
   "execution_count": 48,
   "id": "e2c6d892",
   "metadata": {},
   "outputs": [
    {
     "data": {
      "text/html": [
       "<style>\n",
       ".list-inline {list-style: none; margin:0; padding: 0}\n",
       ".list-inline>li {display: inline-block}\n",
       ".list-inline>li:not(:last-child)::after {content: \"\\00b7\"; padding: 0 .5ex}\n",
       "</style>\n",
       "<ol class=list-inline><li>1</li><li>2</li><li>3</li><li>1</li><li>2</li><li>3</li></ol>\n"
      ],
      "text/latex": [
       "\\begin{enumerate*}\n",
       "\\item 1\n",
       "\\item 2\n",
       "\\item 3\n",
       "\\item 1\n",
       "\\item 2\n",
       "\\item 3\n",
       "\\end{enumerate*}\n"
      ],
      "text/markdown": [
       "1. 1\n",
       "2. 2\n",
       "3. 3\n",
       "4. 1\n",
       "5. 2\n",
       "6. 3\n",
       "\n",
       "\n"
      ],
      "text/plain": [
       "[1] 1 2 3 1 2 3"
      ]
     },
     "metadata": {},
     "output_type": "display_data"
    }
   ],
   "source": [
    "v <- rep(1:3, times=2)\n",
    "v"
   ]
  },
  {
   "cell_type": "code",
   "execution_count": 49,
   "id": "f5184674",
   "metadata": {},
   "outputs": [
    {
     "data": {
      "text/html": [
       "<style>\n",
       ".list-inline {list-style: none; margin:0; padding: 0}\n",
       ".list-inline>li {display: inline-block}\n",
       ".list-inline>li:not(:last-child)::after {content: \"\\00b7\"; padding: 0 .5ex}\n",
       "</style>\n",
       "<ol class=list-inline><li>1</li><li>1</li><li>2</li><li>2</li><li>3</li><li>3</li><li>4</li><li>4</li><li>5</li><li>5</li><li>6</li><li>6</li><li>7</li><li>7</li><li>8</li><li>8</li><li>9</li><li>9</li><li>10</li><li>10</li></ol>\n"
      ],
      "text/latex": [
       "\\begin{enumerate*}\n",
       "\\item 1\n",
       "\\item 1\n",
       "\\item 2\n",
       "\\item 2\n",
       "\\item 3\n",
       "\\item 3\n",
       "\\item 4\n",
       "\\item 4\n",
       "\\item 5\n",
       "\\item 5\n",
       "\\item 6\n",
       "\\item 6\n",
       "\\item 7\n",
       "\\item 7\n",
       "\\item 8\n",
       "\\item 8\n",
       "\\item 9\n",
       "\\item 9\n",
       "\\item 10\n",
       "\\item 10\n",
       "\\end{enumerate*}\n"
      ],
      "text/markdown": [
       "1. 1\n",
       "2. 1\n",
       "3. 2\n",
       "4. 2\n",
       "5. 3\n",
       "6. 3\n",
       "7. 4\n",
       "8. 4\n",
       "9. 5\n",
       "10. 5\n",
       "11. 6\n",
       "12. 6\n",
       "13. 7\n",
       "14. 7\n",
       "15. 8\n",
       "16. 8\n",
       "17. 9\n",
       "18. 9\n",
       "19. 10\n",
       "20. 10\n",
       "\n",
       "\n"
      ],
      "text/plain": [
       " [1]  1  1  2  2  3  3  4  4  5  5  6  6  7  7  8  8  9  9 10 10"
      ]
     },
     "metadata": {},
     "output_type": "display_data"
    }
   ],
   "source": [
    "v <- rep(1:10, each=2)\n",
    "v"
   ]
  },
  {
   "cell_type": "code",
   "execution_count": 50,
   "id": "9c39df66",
   "metadata": {},
   "outputs": [
    {
     "data": {
      "text/html": [
       "<style>\n",
       ".list-inline {list-style: none; margin:0; padding: 0}\n",
       ".list-inline>li {display: inline-block}\n",
       ".list-inline>li:not(:last-child)::after {content: \"\\00b7\"; padding: 0 .5ex}\n",
       "</style>\n",
       "<ol class=list-inline><li>10</li><li>12</li><li>14</li><li>16</li><li>18</li><li>20</li></ol>\n"
      ],
      "text/latex": [
       "\\begin{enumerate*}\n",
       "\\item 10\n",
       "\\item 12\n",
       "\\item 14\n",
       "\\item 16\n",
       "\\item 18\n",
       "\\item 20\n",
       "\\end{enumerate*}\n"
      ],
      "text/markdown": [
       "1. 10\n",
       "2. 12\n",
       "3. 14\n",
       "4. 16\n",
       "5. 18\n",
       "6. 20\n",
       "\n",
       "\n"
      ],
      "text/plain": [
       "[1] 10 12 14 16 18 20"
      ]
     },
     "metadata": {},
     "output_type": "display_data"
    }
   ],
   "source": [
    "v <- seq(10,20,2)\n",
    "v"
   ]
  },
  {
   "cell_type": "markdown",
   "id": "076bf755",
   "metadata": {},
   "source": [
    "### Operations"
   ]
  },
  {
   "cell_type": "code",
   "execution_count": 51,
   "id": "fddc1dc0",
   "metadata": {
    "scrolled": true
   },
   "outputs": [
    {
     "data": {
      "text/html": [
       "<style>\n",
       ".list-inline {list-style: none; margin:0; padding: 0}\n",
       ".list-inline>li {display: inline-block}\n",
       ".list-inline>li:not(:last-child)::after {content: \"\\00b7\"; padding: 0 .5ex}\n",
       "</style>\n",
       "<ol class=list-inline><li>FALSE</li><li>TRUE</li><li>TRUE</li><li>TRUE</li></ol>\n"
      ],
      "text/latex": [
       "\\begin{enumerate*}\n",
       "\\item FALSE\n",
       "\\item TRUE\n",
       "\\item TRUE\n",
       "\\item TRUE\n",
       "\\end{enumerate*}\n"
      ],
      "text/markdown": [
       "1. FALSE\n",
       "2. TRUE\n",
       "3. TRUE\n",
       "4. TRUE\n",
       "\n",
       "\n"
      ],
      "text/plain": [
       "[1] FALSE  TRUE  TRUE  TRUE"
      ]
     },
     "metadata": {},
     "output_type": "display_data"
    }
   ],
   "source": [
    "v1 > 2"
   ]
  },
  {
   "cell_type": "code",
   "execution_count": 52,
   "id": "e6e19e88",
   "metadata": {},
   "outputs": [
    {
     "data": {
      "text/html": [
       "<style>\n",
       ".list-inline {list-style: none; margin:0; padding: 0}\n",
       ".list-inline>li {display: inline-block}\n",
       ".list-inline>li:not(:last-child)::after {content: \"\\00b7\"; padding: 0 .5ex}\n",
       "</style>\n",
       "<ol class=list-inline><li>FALSE</li><li>FALSE</li><li>FALSE</li><li>FALSE</li></ol>\n"
      ],
      "text/latex": [
       "\\begin{enumerate*}\n",
       "\\item FALSE\n",
       "\\item FALSE\n",
       "\\item FALSE\n",
       "\\item FALSE\n",
       "\\end{enumerate*}\n"
      ],
      "text/markdown": [
       "1. FALSE\n",
       "2. FALSE\n",
       "3. FALSE\n",
       "4. FALSE\n",
       "\n",
       "\n"
      ],
      "text/plain": [
       "[1] FALSE FALSE FALSE FALSE"
      ]
     },
     "metadata": {},
     "output_type": "display_data"
    }
   ],
   "source": [
    "v1==v2"
   ]
  },
  {
   "cell_type": "code",
   "execution_count": 53,
   "id": "d21a8454",
   "metadata": {},
   "outputs": [
    {
     "data": {
      "text/html": [
       "<style>\n",
       ".list-inline {list-style: none; margin:0; padding: 0}\n",
       ".list-inline>li {display: inline-block}\n",
       ".list-inline>li:not(:last-child)::after {content: \"\\00b7\"; padding: 0 .5ex}\n",
       "</style>\n",
       "<ol class=list-inline><li>TRUE</li><li>TRUE</li><li>TRUE</li><li>TRUE</li></ol>\n"
      ],
      "text/latex": [
       "\\begin{enumerate*}\n",
       "\\item TRUE\n",
       "\\item TRUE\n",
       "\\item TRUE\n",
       "\\item TRUE\n",
       "\\end{enumerate*}\n"
      ],
      "text/markdown": [
       "1. TRUE\n",
       "2. TRUE\n",
       "3. TRUE\n",
       "4. TRUE\n",
       "\n",
       "\n"
      ],
      "text/plain": [
       "[1] TRUE TRUE TRUE TRUE"
      ]
     },
     "metadata": {},
     "output_type": "display_data"
    }
   ],
   "source": [
    "v1!=v2"
   ]
  },
  {
   "cell_type": "code",
   "execution_count": 54,
   "id": "e1555e4e",
   "metadata": {},
   "outputs": [
    {
     "data": {
      "text/html": [
       "<style>\n",
       ".list-inline {list-style: none; margin:0; padding: 0}\n",
       ".list-inline>li {display: inline-block}\n",
       ".list-inline>li:not(:last-child)::after {content: \"\\00b7\"; padding: 0 .5ex}\n",
       "</style>\n",
       "<ol class=list-inline><li>TRUE</li><li>TRUE</li><li>TRUE</li><li>TRUE</li></ol>\n"
      ],
      "text/latex": [
       "\\begin{enumerate*}\n",
       "\\item TRUE\n",
       "\\item TRUE\n",
       "\\item TRUE\n",
       "\\item TRUE\n",
       "\\end{enumerate*}\n"
      ],
      "text/markdown": [
       "1. TRUE\n",
       "2. TRUE\n",
       "3. TRUE\n",
       "4. TRUE\n",
       "\n",
       "\n"
      ],
      "text/plain": [
       "[1] TRUE TRUE TRUE TRUE"
      ]
     },
     "metadata": {},
     "output_type": "display_data"
    }
   ],
   "source": [
    "(v1>2) | (v2>0)"
   ]
  },
  {
   "cell_type": "code",
   "execution_count": 55,
   "id": "9bc9e969",
   "metadata": {},
   "outputs": [
    {
     "data": {
      "text/html": [
       "<style>\n",
       ".list-inline {list-style: none; margin:0; padding: 0}\n",
       ".list-inline>li {display: inline-block}\n",
       ".list-inline>li:not(:last-child)::after {content: \"\\00b7\"; padding: 0 .5ex}\n",
       "</style>\n",
       "<ol class=list-inline><li>FALSE</li><li>TRUE</li><li>TRUE</li><li>TRUE</li></ol>\n"
      ],
      "text/latex": [
       "\\begin{enumerate*}\n",
       "\\item FALSE\n",
       "\\item TRUE\n",
       "\\item TRUE\n",
       "\\item TRUE\n",
       "\\end{enumerate*}\n"
      ],
      "text/markdown": [
       "1. FALSE\n",
       "2. TRUE\n",
       "3. TRUE\n",
       "4. TRUE\n",
       "\n",
       "\n"
      ],
      "text/plain": [
       "[1] FALSE  TRUE  TRUE  TRUE"
      ]
     },
     "metadata": {},
     "output_type": "display_data"
    }
   ],
   "source": [
    "(v1>2) & (v2>0)"
   ]
  },
  {
   "cell_type": "markdown",
   "id": "5133e355",
   "metadata": {},
   "source": [
    "sum of vector"
   ]
  },
  {
   "cell_type": "code",
   "execution_count": 56,
   "id": "7e684edc",
   "metadata": {},
   "outputs": [
    {
     "data": {
      "text/html": [
       "41"
      ],
      "text/latex": [
       "41"
      ],
      "text/markdown": [
       "41"
      ],
      "text/plain": [
       "[1] 41"
      ]
     },
     "metadata": {},
     "output_type": "display_data"
    }
   ],
   "source": [
    "sum(v1)"
   ]
  },
  {
   "cell_type": "markdown",
   "id": "538fc7b8",
   "metadata": {},
   "source": [
    "average of all elements in vector"
   ]
  },
  {
   "cell_type": "code",
   "execution_count": 57,
   "id": "02d4f344",
   "metadata": {},
   "outputs": [
    {
     "data": {
      "text/html": [
       "10.25"
      ],
      "text/latex": [
       "10.25"
      ],
      "text/markdown": [
       "10.25"
      ],
      "text/plain": [
       "[1] 10.25"
      ]
     },
     "metadata": {},
     "output_type": "display_data"
    }
   ],
   "source": [
    "mean(v1)"
   ]
  },
  {
   "cell_type": "markdown",
   "id": "7a454491",
   "metadata": {},
   "source": [
    "standard deviation of vector"
   ]
  },
  {
   "cell_type": "code",
   "execution_count": 58,
   "id": "6bd8a9d5",
   "metadata": {},
   "outputs": [
    {
     "data": {
      "text/html": [
       "8.84590300647707"
      ],
      "text/latex": [
       "8.84590300647707"
      ],
      "text/markdown": [
       "8.84590300647707"
      ],
      "text/plain": [
       "[1] 8.845903"
      ]
     },
     "metadata": {},
     "output_type": "display_data"
    }
   ],
   "source": [
    "sd(v1)"
   ]
  },
  {
   "cell_type": "markdown",
   "id": "a715d57e",
   "metadata": {},
   "source": [
    "correlation between two vectors"
   ]
  },
  {
   "cell_type": "code",
   "execution_count": 59,
   "id": "c9c03c6f",
   "metadata": {},
   "outputs": [
    {
     "data": {
      "text/html": [
       "1"
      ],
      "text/latex": [
       "1"
      ],
      "text/markdown": [
       "1"
      ],
      "text/plain": [
       "[1] 1"
      ]
     },
     "metadata": {},
     "output_type": "display_data"
    }
   ],
   "source": [
    "cor(v1,v1*5)"
   ]
  },
  {
   "cell_type": "markdown",
   "id": "905a91f9",
   "metadata": {},
   "source": [
    "### Elements"
   ]
  },
  {
   "cell_type": "code",
   "execution_count": 60,
   "id": "2e8219cf",
   "metadata": {},
   "outputs": [
    {
     "data": {
      "text/html": [
       "<style>\n",
       ".list-inline {list-style: none; margin:0; padding: 0}\n",
       ".list-inline>li {display: inline-block}\n",
       ".list-inline>li:not(:last-child)::after {content: \"\\00b7\"; padding: 0 .5ex}\n",
       "</style>\n",
       "<ol class=list-inline><li>1</li><li>7</li><li>11</li><li>22</li></ol>\n"
      ],
      "text/latex": [
       "\\begin{enumerate*}\n",
       "\\item 1\n",
       "\\item 7\n",
       "\\item 11\n",
       "\\item 22\n",
       "\\end{enumerate*}\n"
      ],
      "text/markdown": [
       "1. 1\n",
       "2. 7\n",
       "3. 11\n",
       "4. 22\n",
       "\n",
       "\n"
      ],
      "text/plain": [
       "[1]  1  7 11 22"
      ]
     },
     "metadata": {},
     "output_type": "display_data"
    }
   ],
   "source": [
    "v1"
   ]
  },
  {
   "cell_type": "markdown",
   "id": "9f6fb9af",
   "metadata": {},
   "source": [
    "getting the third element of vector"
   ]
  },
  {
   "cell_type": "code",
   "execution_count": 61,
   "id": "06ab79b0",
   "metadata": {
    "scrolled": false
   },
   "outputs": [
    {
     "data": {
      "text/html": [
       "11"
      ],
      "text/latex": [
       "11"
      ],
      "text/markdown": [
       "11"
      ],
      "text/plain": [
       "[1] 11"
      ]
     },
     "metadata": {},
     "output_type": "display_data"
    }
   ],
   "source": [
    "v1[3]"
   ]
  },
  {
   "cell_type": "markdown",
   "id": "d5ac8cbb",
   "metadata": {},
   "source": [
    "getting second, third, and fourth element of vector"
   ]
  },
  {
   "cell_type": "code",
   "execution_count": 62,
   "id": "f8a6d9b3",
   "metadata": {
    "scrolled": true
   },
   "outputs": [
    {
     "data": {
      "text/html": [
       "<style>\n",
       ".list-inline {list-style: none; margin:0; padding: 0}\n",
       ".list-inline>li {display: inline-block}\n",
       ".list-inline>li:not(:last-child)::after {content: \"\\00b7\"; padding: 0 .5ex}\n",
       "</style>\n",
       "<ol class=list-inline><li>7</li><li>11</li><li>22</li></ol>\n"
      ],
      "text/latex": [
       "\\begin{enumerate*}\n",
       "\\item 7\n",
       "\\item 11\n",
       "\\item 22\n",
       "\\end{enumerate*}\n"
      ],
      "text/markdown": [
       "1. 7\n",
       "2. 11\n",
       "3. 22\n",
       "\n",
       "\n"
      ],
      "text/plain": [
       "[1]  7 11 22"
      ]
     },
     "metadata": {},
     "output_type": "display_data"
    }
   ],
   "source": [
    "v1[2:4]"
   ]
  },
  {
   "cell_type": "markdown",
   "id": "d2c2ea57",
   "metadata": {},
   "source": [
    "getting first and third elements of vector"
   ]
  },
  {
   "cell_type": "code",
   "execution_count": 63,
   "id": "d92caa21",
   "metadata": {
    "scrolled": true
   },
   "outputs": [
    {
     "data": {
      "text/html": [
       "<style>\n",
       ".list-inline {list-style: none; margin:0; padding: 0}\n",
       ".list-inline>li {display: inline-block}\n",
       ".list-inline>li:not(:last-child)::after {content: \"\\00b7\"; padding: 0 .5ex}\n",
       "</style>\n",
       "<ol class=list-inline><li>1</li><li>11</li></ol>\n"
      ],
      "text/latex": [
       "\\begin{enumerate*}\n",
       "\\item 1\n",
       "\\item 11\n",
       "\\end{enumerate*}\n"
      ],
      "text/markdown": [
       "1. 1\n",
       "2. 11\n",
       "\n",
       "\n"
      ],
      "text/plain": [
       "[1]  1 11"
      ]
     },
     "metadata": {},
     "output_type": "display_data"
    }
   ],
   "source": [
    "v1[c(1,3)]"
   ]
  },
  {
   "cell_type": "code",
   "execution_count": 64,
   "id": "8940c00d",
   "metadata": {},
   "outputs": [
    {
     "data": {
      "text/html": [
       "<style>\n",
       ".list-inline {list-style: none; margin:0; padding: 0}\n",
       ".list-inline>li {display: inline-block}\n",
       ".list-inline>li:not(:last-child)::after {content: \"\\00b7\"; padding: 0 .5ex}\n",
       "</style>\n",
       "<ol class=list-inline><li>1</li><li>7</li><li>11</li><li>22</li></ol>\n"
      ],
      "text/latex": [
       "\\begin{enumerate*}\n",
       "\\item 1\n",
       "\\item 7\n",
       "\\item 11\n",
       "\\item 22\n",
       "\\end{enumerate*}\n"
      ],
      "text/markdown": [
       "1. 1\n",
       "2. 7\n",
       "3. 11\n",
       "4. 22\n",
       "\n",
       "\n"
      ],
      "text/plain": [
       "[1]  1  7 11 22"
      ]
     },
     "metadata": {},
     "output_type": "display_data"
    }
   ],
   "source": [
    "v1"
   ]
  },
  {
   "cell_type": "markdown",
   "id": "a4b79e97",
   "metadata": {},
   "source": [
    "just returns elements which are true indexes"
   ]
  },
  {
   "cell_type": "code",
   "execution_count": 65,
   "id": "39d9c4d0",
   "metadata": {
    "scrolled": false
   },
   "outputs": [
    {
     "data": {
      "text/html": [
       "<style>\n",
       ".list-inline {list-style: none; margin:0; padding: 0}\n",
       ".list-inline>li {display: inline-block}\n",
       ".list-inline>li:not(:last-child)::after {content: \"\\00b7\"; padding: 0 .5ex}\n",
       "</style>\n",
       "<ol class=list-inline><li>1</li><li>7</li></ol>\n"
      ],
      "text/latex": [
       "\\begin{enumerate*}\n",
       "\\item 1\n",
       "\\item 7\n",
       "\\end{enumerate*}\n"
      ],
      "text/markdown": [
       "1. 1\n",
       "2. 7\n",
       "\n",
       "\n"
      ],
      "text/plain": [
       "[1] 1 7"
      ]
     },
     "metadata": {},
     "output_type": "display_data"
    }
   ],
   "source": [
    "v1[c(TRUE, TRUE, FALSE, FALSE)]"
   ]
  },
  {
   "cell_type": "markdown",
   "id": "d7767144",
   "metadata": {},
   "source": [
    "getting elements greater than 3"
   ]
  },
  {
   "cell_type": "code",
   "execution_count": 66,
   "id": "fe9e5475",
   "metadata": {},
   "outputs": [
    {
     "data": {
      "text/html": [
       "<style>\n",
       ".list-inline {list-style: none; margin:0; padding: 0}\n",
       ".list-inline>li {display: inline-block}\n",
       ".list-inline>li:not(:last-child)::after {content: \"\\00b7\"; padding: 0 .5ex}\n",
       "</style>\n",
       "<ol class=list-inline><li>7</li><li>11</li><li>22</li></ol>\n"
      ],
      "text/latex": [
       "\\begin{enumerate*}\n",
       "\\item 7\n",
       "\\item 11\n",
       "\\item 22\n",
       "\\end{enumerate*}\n"
      ],
      "text/markdown": [
       "1. 7\n",
       "2. 11\n",
       "3. 22\n",
       "\n",
       "\n"
      ],
      "text/plain": [
       "[1]  7 11 22"
      ]
     },
     "metadata": {},
     "output_type": "display_data"
    }
   ],
   "source": [
    "v1[v1>3]"
   ]
  },
  {
   "cell_type": "markdown",
   "id": "606e3d30",
   "metadata": {},
   "source": [
    "adding elements"
   ]
  },
  {
   "cell_type": "code",
   "execution_count": 67,
   "id": "f72f822d",
   "metadata": {},
   "outputs": [
    {
     "data": {
      "text/html": [
       "<style>\n",
       ".list-inline {list-style: none; margin:0; padding: 0}\n",
       ".list-inline>li {display: inline-block}\n",
       ".list-inline>li:not(:last-child)::after {content: \"\\00b7\"; padding: 0 .5ex}\n",
       "</style>\n",
       "<ol class=list-inline><li>1</li><li>7</li><li>11</li><li>22</li></ol>\n"
      ],
      "text/latex": [
       "\\begin{enumerate*}\n",
       "\\item 1\n",
       "\\item 7\n",
       "\\item 11\n",
       "\\item 22\n",
       "\\end{enumerate*}\n"
      ],
      "text/markdown": [
       "1. 1\n",
       "2. 7\n",
       "3. 11\n",
       "4. 22\n",
       "\n",
       "\n"
      ],
      "text/plain": [
       "[1]  1  7 11 22"
      ]
     },
     "metadata": {},
     "output_type": "display_data"
    }
   ],
   "source": [
    "v1"
   ]
  },
  {
   "cell_type": "code",
   "execution_count": 68,
   "id": "249d4447",
   "metadata": {},
   "outputs": [],
   "source": [
    "v1[5:10] <- 5:10"
   ]
  },
  {
   "cell_type": "code",
   "execution_count": 69,
   "id": "638033e5",
   "metadata": {},
   "outputs": [
    {
     "data": {
      "text/html": [
       "<style>\n",
       ".list-inline {list-style: none; margin:0; padding: 0}\n",
       ".list-inline>li {display: inline-block}\n",
       ".list-inline>li:not(:last-child)::after {content: \"\\00b7\"; padding: 0 .5ex}\n",
       "</style>\n",
       "<ol class=list-inline><li>1</li><li>7</li><li>11</li><li>22</li><li>5</li><li>6</li><li>7</li><li>8</li><li>9</li><li>10</li></ol>\n"
      ],
      "text/latex": [
       "\\begin{enumerate*}\n",
       "\\item 1\n",
       "\\item 7\n",
       "\\item 11\n",
       "\\item 22\n",
       "\\item 5\n",
       "\\item 6\n",
       "\\item 7\n",
       "\\item 8\n",
       "\\item 9\n",
       "\\item 10\n",
       "\\end{enumerate*}\n"
      ],
      "text/markdown": [
       "1. 1\n",
       "2. 7\n",
       "3. 11\n",
       "4. 22\n",
       "5. 5\n",
       "6. 6\n",
       "7. 7\n",
       "8. 8\n",
       "9. 9\n",
       "10. 10\n",
       "\n",
       "\n"
      ],
      "text/plain": [
       " [1]  1  7 11 22  5  6  7  8  9 10"
      ]
     },
     "metadata": {},
     "output_type": "display_data"
    }
   ],
   "source": [
    "v1"
   ]
  },
  {
   "cell_type": "markdown",
   "id": "4d46d9fd",
   "metadata": {},
   "source": [
    "## Matrix"
   ]
  },
  {
   "cell_type": "code",
   "execution_count": 70,
   "id": "015517ff",
   "metadata": {},
   "outputs": [],
   "source": [
    "matrix1 <- matrix(1:25,5,5)"
   ]
  },
  {
   "cell_type": "code",
   "execution_count": 71,
   "id": "d1386055",
   "metadata": {},
   "outputs": [
    {
     "data": {
      "text/html": [
       "<table class=\"dataframe\">\n",
       "<caption>A matrix: 5 × 5 of type int</caption>\n",
       "<tbody>\n",
       "\t<tr><td>1</td><td> 6</td><td>11</td><td>16</td><td>21</td></tr>\n",
       "\t<tr><td>2</td><td> 7</td><td>12</td><td>17</td><td>22</td></tr>\n",
       "\t<tr><td>3</td><td> 8</td><td>13</td><td>18</td><td>23</td></tr>\n",
       "\t<tr><td>4</td><td> 9</td><td>14</td><td>19</td><td>24</td></tr>\n",
       "\t<tr><td>5</td><td>10</td><td>15</td><td>20</td><td>25</td></tr>\n",
       "</tbody>\n",
       "</table>\n"
      ],
      "text/latex": [
       "A matrix: 5 × 5 of type int\n",
       "\\begin{tabular}{lllll}\n",
       "\t 1 &  6 & 11 & 16 & 21\\\\\n",
       "\t 2 &  7 & 12 & 17 & 22\\\\\n",
       "\t 3 &  8 & 13 & 18 & 23\\\\\n",
       "\t 4 &  9 & 14 & 19 & 24\\\\\n",
       "\t 5 & 10 & 15 & 20 & 25\\\\\n",
       "\\end{tabular}\n"
      ],
      "text/markdown": [
       "\n",
       "A matrix: 5 × 5 of type int\n",
       "\n",
       "| 1 |  6 | 11 | 16 | 21 |\n",
       "| 2 |  7 | 12 | 17 | 22 |\n",
       "| 3 |  8 | 13 | 18 | 23 |\n",
       "| 4 |  9 | 14 | 19 | 24 |\n",
       "| 5 | 10 | 15 | 20 | 25 |\n",
       "\n"
      ],
      "text/plain": [
       "     [,1] [,2] [,3] [,4] [,5]\n",
       "[1,] 1     6   11   16   21  \n",
       "[2,] 2     7   12   17   22  \n",
       "[3,] 3     8   13   18   23  \n",
       "[4,] 4     9   14   19   24  \n",
       "[5,] 5    10   15   20   25  "
      ]
     },
     "metadata": {},
     "output_type": "display_data"
    }
   ],
   "source": [
    "matrix1"
   ]
  },
  {
   "cell_type": "markdown",
   "id": "4c46c163",
   "metadata": {},
   "source": [
    "## Dataframes"
   ]
  },
  {
   "cell_type": "code",
   "execution_count": 72,
   "id": "e1293c5f",
   "metadata": {},
   "outputs": [
    {
     "data": {
      "text/html": [
       "<table class=\"dataframe\">\n",
       "<caption>A data.frame: 6 × 11</caption>\n",
       "<thead>\n",
       "\t<tr><th></th><th scope=col>mpg</th><th scope=col>cyl</th><th scope=col>disp</th><th scope=col>hp</th><th scope=col>drat</th><th scope=col>wt</th><th scope=col>qsec</th><th scope=col>vs</th><th scope=col>am</th><th scope=col>gear</th><th scope=col>carb</th></tr>\n",
       "\t<tr><th></th><th scope=col>&lt;dbl&gt;</th><th scope=col>&lt;dbl&gt;</th><th scope=col>&lt;dbl&gt;</th><th scope=col>&lt;dbl&gt;</th><th scope=col>&lt;dbl&gt;</th><th scope=col>&lt;dbl&gt;</th><th scope=col>&lt;dbl&gt;</th><th scope=col>&lt;dbl&gt;</th><th scope=col>&lt;dbl&gt;</th><th scope=col>&lt;dbl&gt;</th><th scope=col>&lt;dbl&gt;</th></tr>\n",
       "</thead>\n",
       "<tbody>\n",
       "\t<tr><th scope=row>Mazda RX4</th><td>21.0</td><td>6</td><td>160</td><td>110</td><td>3.90</td><td>2.620</td><td>16.46</td><td>0</td><td>1</td><td>4</td><td>4</td></tr>\n",
       "\t<tr><th scope=row>Mazda RX4 Wag</th><td>21.0</td><td>6</td><td>160</td><td>110</td><td>3.90</td><td>2.875</td><td>17.02</td><td>0</td><td>1</td><td>4</td><td>4</td></tr>\n",
       "\t<tr><th scope=row>Datsun 710</th><td>22.8</td><td>4</td><td>108</td><td> 93</td><td>3.85</td><td>2.320</td><td>18.61</td><td>1</td><td>1</td><td>4</td><td>1</td></tr>\n",
       "\t<tr><th scope=row>Hornet 4 Drive</th><td>21.4</td><td>6</td><td>258</td><td>110</td><td>3.08</td><td>3.215</td><td>19.44</td><td>1</td><td>0</td><td>3</td><td>1</td></tr>\n",
       "\t<tr><th scope=row>Hornet Sportabout</th><td>18.7</td><td>8</td><td>360</td><td>175</td><td>3.15</td><td>3.440</td><td>17.02</td><td>0</td><td>0</td><td>3</td><td>2</td></tr>\n",
       "\t<tr><th scope=row>Valiant</th><td>18.1</td><td>6</td><td>225</td><td>105</td><td>2.76</td><td>3.460</td><td>20.22</td><td>1</td><td>0</td><td>3</td><td>1</td></tr>\n",
       "</tbody>\n",
       "</table>\n"
      ],
      "text/latex": [
       "A data.frame: 6 × 11\n",
       "\\begin{tabular}{r|lllllllllll}\n",
       "  & mpg & cyl & disp & hp & drat & wt & qsec & vs & am & gear & carb\\\\\n",
       "  & <dbl> & <dbl> & <dbl> & <dbl> & <dbl> & <dbl> & <dbl> & <dbl> & <dbl> & <dbl> & <dbl>\\\\\n",
       "\\hline\n",
       "\tMazda RX4 & 21.0 & 6 & 160 & 110 & 3.90 & 2.620 & 16.46 & 0 & 1 & 4 & 4\\\\\n",
       "\tMazda RX4 Wag & 21.0 & 6 & 160 & 110 & 3.90 & 2.875 & 17.02 & 0 & 1 & 4 & 4\\\\\n",
       "\tDatsun 710 & 22.8 & 4 & 108 &  93 & 3.85 & 2.320 & 18.61 & 1 & 1 & 4 & 1\\\\\n",
       "\tHornet 4 Drive & 21.4 & 6 & 258 & 110 & 3.08 & 3.215 & 19.44 & 1 & 0 & 3 & 1\\\\\n",
       "\tHornet Sportabout & 18.7 & 8 & 360 & 175 & 3.15 & 3.440 & 17.02 & 0 & 0 & 3 & 2\\\\\n",
       "\tValiant & 18.1 & 6 & 225 & 105 & 2.76 & 3.460 & 20.22 & 1 & 0 & 3 & 1\\\\\n",
       "\\end{tabular}\n"
      ],
      "text/markdown": [
       "\n",
       "A data.frame: 6 × 11\n",
       "\n",
       "| <!--/--> | mpg &lt;dbl&gt; | cyl &lt;dbl&gt; | disp &lt;dbl&gt; | hp &lt;dbl&gt; | drat &lt;dbl&gt; | wt &lt;dbl&gt; | qsec &lt;dbl&gt; | vs &lt;dbl&gt; | am &lt;dbl&gt; | gear &lt;dbl&gt; | carb &lt;dbl&gt; |\n",
       "|---|---|---|---|---|---|---|---|---|---|---|---|\n",
       "| Mazda RX4 | 21.0 | 6 | 160 | 110 | 3.90 | 2.620 | 16.46 | 0 | 1 | 4 | 4 |\n",
       "| Mazda RX4 Wag | 21.0 | 6 | 160 | 110 | 3.90 | 2.875 | 17.02 | 0 | 1 | 4 | 4 |\n",
       "| Datsun 710 | 22.8 | 4 | 108 |  93 | 3.85 | 2.320 | 18.61 | 1 | 1 | 4 | 1 |\n",
       "| Hornet 4 Drive | 21.4 | 6 | 258 | 110 | 3.08 | 3.215 | 19.44 | 1 | 0 | 3 | 1 |\n",
       "| Hornet Sportabout | 18.7 | 8 | 360 | 175 | 3.15 | 3.440 | 17.02 | 0 | 0 | 3 | 2 |\n",
       "| Valiant | 18.1 | 6 | 225 | 105 | 2.76 | 3.460 | 20.22 | 1 | 0 | 3 | 1 |\n",
       "\n"
      ],
      "text/plain": [
       "                  mpg  cyl disp hp  drat wt    qsec  vs am gear carb\n",
       "Mazda RX4         21.0 6   160  110 3.90 2.620 16.46 0  1  4    4   \n",
       "Mazda RX4 Wag     21.0 6   160  110 3.90 2.875 17.02 0  1  4    4   \n",
       "Datsun 710        22.8 4   108   93 3.85 2.320 18.61 1  1  4    1   \n",
       "Hornet 4 Drive    21.4 6   258  110 3.08 3.215 19.44 1  0  3    1   \n",
       "Hornet Sportabout 18.7 8   360  175 3.15 3.440 17.02 0  0  3    2   \n",
       "Valiant           18.1 6   225  105 2.76 3.460 20.22 1  0  3    1   "
      ]
     },
     "metadata": {},
     "output_type": "display_data"
    }
   ],
   "source": [
    "head(mtcars)"
   ]
  },
  {
   "cell_type": "code",
   "execution_count": 73,
   "id": "bc496c27",
   "metadata": {},
   "outputs": [
    {
     "data": {
      "text/html": [
       "'data.frame'"
      ],
      "text/latex": [
       "'data.frame'"
      ],
      "text/markdown": [
       "'data.frame'"
      ],
      "text/plain": [
       "[1] \"data.frame\""
      ]
     },
     "metadata": {},
     "output_type": "display_data"
    }
   ],
   "source": [
    "class(mtcars)"
   ]
  },
  {
   "cell_type": "markdown",
   "id": "1edce8b6",
   "metadata": {},
   "source": [
    "### Creation"
   ]
  },
  {
   "cell_type": "code",
   "execution_count": 74,
   "id": "586dcee4",
   "metadata": {},
   "outputs": [],
   "source": [
    "people_df <- data.frame(ID=c(1, 2, 3, 4), FirstName=c(\"John\",\"Jim\",\"Jane\",\"Jill\"), Female=c(F,F,T,T), Age=c(22,33,44,55))"
   ]
  },
  {
   "cell_type": "code",
   "execution_count": 75,
   "id": "a14ecd52",
   "metadata": {},
   "outputs": [
    {
     "data": {
      "text/html": [
       "<table class=\"dataframe\">\n",
       "<caption>A data.frame: 4 × 4</caption>\n",
       "<thead>\n",
       "\t<tr><th scope=col>ID</th><th scope=col>FirstName</th><th scope=col>Female</th><th scope=col>Age</th></tr>\n",
       "\t<tr><th scope=col>&lt;dbl&gt;</th><th scope=col>&lt;chr&gt;</th><th scope=col>&lt;lgl&gt;</th><th scope=col>&lt;dbl&gt;</th></tr>\n",
       "</thead>\n",
       "<tbody>\n",
       "\t<tr><td>1</td><td>John</td><td>FALSE</td><td>22</td></tr>\n",
       "\t<tr><td>2</td><td>Jim </td><td>FALSE</td><td>33</td></tr>\n",
       "\t<tr><td>3</td><td>Jane</td><td> TRUE</td><td>44</td></tr>\n",
       "\t<tr><td>4</td><td>Jill</td><td> TRUE</td><td>55</td></tr>\n",
       "</tbody>\n",
       "</table>\n"
      ],
      "text/latex": [
       "A data.frame: 4 × 4\n",
       "\\begin{tabular}{llll}\n",
       " ID & FirstName & Female & Age\\\\\n",
       " <dbl> & <chr> & <lgl> & <dbl>\\\\\n",
       "\\hline\n",
       "\t 1 & John & FALSE & 22\\\\\n",
       "\t 2 & Jim  & FALSE & 33\\\\\n",
       "\t 3 & Jane &  TRUE & 44\\\\\n",
       "\t 4 & Jill &  TRUE & 55\\\\\n",
       "\\end{tabular}\n"
      ],
      "text/markdown": [
       "\n",
       "A data.frame: 4 × 4\n",
       "\n",
       "| ID &lt;dbl&gt; | FirstName &lt;chr&gt; | Female &lt;lgl&gt; | Age &lt;dbl&gt; |\n",
       "|---|---|---|---|\n",
       "| 1 | John | FALSE | 22 |\n",
       "| 2 | Jim  | FALSE | 33 |\n",
       "| 3 | Jane |  TRUE | 44 |\n",
       "| 4 | Jill |  TRUE | 55 |\n",
       "\n"
      ],
      "text/plain": [
       "  ID FirstName Female Age\n",
       "1 1  John      FALSE  22 \n",
       "2 2  Jim       FALSE  33 \n",
       "3 3  Jane       TRUE  44 \n",
       "4 4  Jill       TRUE  55 "
      ]
     },
     "metadata": {},
     "output_type": "display_data"
    }
   ],
   "source": [
    "people_df"
   ]
  },
  {
   "cell_type": "code",
   "execution_count": 76,
   "id": "004d3c65",
   "metadata": {},
   "outputs": [],
   "source": [
    "people2_df <- data.frame(FirstName=c(\"John\",\"Jim\",\"Jane\",\"Jill\"), stringsAsFactors=FALSE)"
   ]
  },
  {
   "cell_type": "code",
   "execution_count": 77,
   "id": "6c8adf09",
   "metadata": {},
   "outputs": [
    {
     "data": {
      "text/html": [
       "<table class=\"dataframe\">\n",
       "<caption>A data.frame: 4 × 1</caption>\n",
       "<thead>\n",
       "\t<tr><th scope=col>FirstName</th></tr>\n",
       "\t<tr><th scope=col>&lt;chr&gt;</th></tr>\n",
       "</thead>\n",
       "<tbody>\n",
       "\t<tr><td>John</td></tr>\n",
       "\t<tr><td>Jim </td></tr>\n",
       "\t<tr><td>Jane</td></tr>\n",
       "\t<tr><td>Jill</td></tr>\n",
       "</tbody>\n",
       "</table>\n"
      ],
      "text/latex": [
       "A data.frame: 4 × 1\n",
       "\\begin{tabular}{l}\n",
       " FirstName\\\\\n",
       " <chr>\\\\\n",
       "\\hline\n",
       "\t John\\\\\n",
       "\t Jim \\\\\n",
       "\t Jane\\\\\n",
       "\t Jill\\\\\n",
       "\\end{tabular}\n"
      ],
      "text/markdown": [
       "\n",
       "A data.frame: 4 × 1\n",
       "\n",
       "| FirstName &lt;chr&gt; |\n",
       "|---|\n",
       "| John |\n",
       "| Jim  |\n",
       "| Jane |\n",
       "| Jill |\n",
       "\n"
      ],
      "text/plain": [
       "  FirstName\n",
       "1 John     \n",
       "2 Jim      \n",
       "3 Jane     \n",
       "4 Jill     "
      ]
     },
     "metadata": {},
     "output_type": "display_data"
    }
   ],
   "source": [
    "people2_df"
   ]
  },
  {
   "cell_type": "markdown",
   "id": "20e14810",
   "metadata": {},
   "source": [
    "### Dataframe elements"
   ]
  },
  {
   "cell_type": "markdown",
   "id": "c533c144",
   "metadata": {},
   "source": [
    "first row and all columns"
   ]
  },
  {
   "cell_type": "code",
   "execution_count": 78,
   "id": "4815b466",
   "metadata": {},
   "outputs": [
    {
     "data": {
      "text/html": [
       "<table class=\"dataframe\">\n",
       "<caption>A data.frame: 1 × 4</caption>\n",
       "<thead>\n",
       "\t<tr><th></th><th scope=col>ID</th><th scope=col>FirstName</th><th scope=col>Female</th><th scope=col>Age</th></tr>\n",
       "\t<tr><th></th><th scope=col>&lt;dbl&gt;</th><th scope=col>&lt;chr&gt;</th><th scope=col>&lt;lgl&gt;</th><th scope=col>&lt;dbl&gt;</th></tr>\n",
       "</thead>\n",
       "<tbody>\n",
       "\t<tr><th scope=row>1</th><td>1</td><td>John</td><td>FALSE</td><td>22</td></tr>\n",
       "</tbody>\n",
       "</table>\n"
      ],
      "text/latex": [
       "A data.frame: 1 × 4\n",
       "\\begin{tabular}{r|llll}\n",
       "  & ID & FirstName & Female & Age\\\\\n",
       "  & <dbl> & <chr> & <lgl> & <dbl>\\\\\n",
       "\\hline\n",
       "\t1 & 1 & John & FALSE & 22\\\\\n",
       "\\end{tabular}\n"
      ],
      "text/markdown": [
       "\n",
       "A data.frame: 1 × 4\n",
       "\n",
       "| <!--/--> | ID &lt;dbl&gt; | FirstName &lt;chr&gt; | Female &lt;lgl&gt; | Age &lt;dbl&gt; |\n",
       "|---|---|---|---|---|\n",
       "| 1 | 1 | John | FALSE | 22 |\n",
       "\n"
      ],
      "text/plain": [
       "  ID FirstName Female Age\n",
       "1 1  John      FALSE  22 "
      ]
     },
     "metadata": {},
     "output_type": "display_data"
    }
   ],
   "source": [
    "people_df[1, ]"
   ]
  },
  {
   "cell_type": "markdown",
   "id": "1777e5e0",
   "metadata": {},
   "source": [
    "first column and all rows"
   ]
  },
  {
   "cell_type": "code",
   "execution_count": 79,
   "id": "7896a7b9",
   "metadata": {
    "scrolled": true
   },
   "outputs": [
    {
     "data": {
      "text/html": [
       "<style>\n",
       ".list-inline {list-style: none; margin:0; padding: 0}\n",
       ".list-inline>li {display: inline-block}\n",
       ".list-inline>li:not(:last-child)::after {content: \"\\00b7\"; padding: 0 .5ex}\n",
       "</style>\n",
       "<ol class=list-inline><li>1</li><li>2</li><li>3</li><li>4</li></ol>\n"
      ],
      "text/latex": [
       "\\begin{enumerate*}\n",
       "\\item 1\n",
       "\\item 2\n",
       "\\item 3\n",
       "\\item 4\n",
       "\\end{enumerate*}\n"
      ],
      "text/markdown": [
       "1. 1\n",
       "2. 2\n",
       "3. 3\n",
       "4. 4\n",
       "\n",
       "\n"
      ],
      "text/plain": [
       "[1] 1 2 3 4"
      ]
     },
     "metadata": {},
     "output_type": "display_data"
    }
   ],
   "source": [
    "people_df[, 1]"
   ]
  },
  {
   "cell_type": "markdown",
   "id": "35f80598",
   "metadata": {},
   "source": [
    "age column and all rows"
   ]
  },
  {
   "cell_type": "code",
   "execution_count": 80,
   "id": "4ffa3a78",
   "metadata": {},
   "outputs": [
    {
     "data": {
      "text/html": [
       "<style>\n",
       ".list-inline {list-style: none; margin:0; padding: 0}\n",
       ".list-inline>li {display: inline-block}\n",
       ".list-inline>li:not(:last-child)::after {content: \"\\00b7\"; padding: 0 .5ex}\n",
       "</style>\n",
       "<ol class=list-inline><li>22</li><li>33</li><li>44</li><li>55</li></ol>\n"
      ],
      "text/latex": [
       "\\begin{enumerate*}\n",
       "\\item 22\n",
       "\\item 33\n",
       "\\item 44\n",
       "\\item 55\n",
       "\\end{enumerate*}\n"
      ],
      "text/markdown": [
       "1. 22\n",
       "2. 33\n",
       "3. 44\n",
       "4. 55\n",
       "\n",
       "\n"
      ],
      "text/plain": [
       "[1] 22 33 44 55"
      ]
     },
     "metadata": {},
     "output_type": "display_data"
    }
   ],
   "source": [
    "people_df$Age"
   ]
  },
  {
   "cell_type": "markdown",
   "id": "17314e57",
   "metadata": {},
   "source": [
    "row 1 and 2, columns 3 and 4"
   ]
  },
  {
   "cell_type": "code",
   "execution_count": 81,
   "id": "a24d00c6",
   "metadata": {},
   "outputs": [
    {
     "data": {
      "text/html": [
       "<table class=\"dataframe\">\n",
       "<caption>A data.frame: 2 × 2</caption>\n",
       "<thead>\n",
       "\t<tr><th></th><th scope=col>Female</th><th scope=col>Age</th></tr>\n",
       "\t<tr><th></th><th scope=col>&lt;lgl&gt;</th><th scope=col>&lt;dbl&gt;</th></tr>\n",
       "</thead>\n",
       "<tbody>\n",
       "\t<tr><th scope=row>1</th><td>FALSE</td><td>22</td></tr>\n",
       "\t<tr><th scope=row>2</th><td>FALSE</td><td>33</td></tr>\n",
       "</tbody>\n",
       "</table>\n"
      ],
      "text/latex": [
       "A data.frame: 2 × 2\n",
       "\\begin{tabular}{r|ll}\n",
       "  & Female & Age\\\\\n",
       "  & <lgl> & <dbl>\\\\\n",
       "\\hline\n",
       "\t1 & FALSE & 22\\\\\n",
       "\t2 & FALSE & 33\\\\\n",
       "\\end{tabular}\n"
      ],
      "text/markdown": [
       "\n",
       "A data.frame: 2 × 2\n",
       "\n",
       "| <!--/--> | Female &lt;lgl&gt; | Age &lt;dbl&gt; |\n",
       "|---|---|---|\n",
       "| 1 | FALSE | 22 |\n",
       "| 2 | FALSE | 33 |\n",
       "\n"
      ],
      "text/plain": [
       "  Female Age\n",
       "1 FALSE  22 \n",
       "2 FALSE  33 "
      ]
     },
     "metadata": {},
     "output_type": "display_data"
    }
   ],
   "source": [
    "people_df[1:2, 3:4]"
   ]
  },
  {
   "cell_type": "code",
   "execution_count": 82,
   "id": "4923fbbe",
   "metadata": {},
   "outputs": [
    {
     "data": {
      "text/html": [
       "55"
      ],
      "text/latex": [
       "55"
      ],
      "text/markdown": [
       "55"
      ],
      "text/plain": [
       "[1] 55"
      ]
     },
     "metadata": {},
     "output_type": "display_data"
    }
   ],
   "source": [
    "people_df[people_df$FirstName==\"Jill\",4]"
   ]
  },
  {
   "cell_type": "code",
   "execution_count": 83,
   "id": "78c4ec91",
   "metadata": {},
   "outputs": [
    {
     "data": {
      "text/html": [
       "<style>\n",
       ".list-inline {list-style: none; margin:0; padding: 0}\n",
       ".list-inline>li {display: inline-block}\n",
       ".list-inline>li:not(:last-child)::after {content: \"\\00b7\"; padding: 0 .5ex}\n",
       "</style>\n",
       "<ol class=list-inline><li>'Jim'</li><li>'Jane'</li><li>'Jill'</li></ol>\n"
      ],
      "text/latex": [
       "\\begin{enumerate*}\n",
       "\\item 'Jim'\n",
       "\\item 'Jane'\n",
       "\\item 'Jill'\n",
       "\\end{enumerate*}\n"
      ],
      "text/markdown": [
       "1. 'Jim'\n",
       "2. 'Jane'\n",
       "3. 'Jill'\n",
       "\n",
       "\n"
      ],
      "text/plain": [
       "[1] \"Jim\"  \"Jane\" \"Jill\""
      ]
     },
     "metadata": {},
     "output_type": "display_data"
    }
   ],
   "source": [
    "people_df[people_df$Age>30, 2]"
   ]
  }
 ],
 "metadata": {
  "kernelspec": {
   "display_name": "R",
   "language": "R",
   "name": "ir"
  },
  "language_info": {
   "codemirror_mode": "r",
   "file_extension": ".r",
   "mimetype": "text/x-r-source",
   "name": "R",
   "pygments_lexer": "r",
   "version": "4.0.5"
  }
 },
 "nbformat": 4,
 "nbformat_minor": 5
}
